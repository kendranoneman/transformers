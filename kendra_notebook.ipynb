{
 "cells": [
  {
   "cell_type": "markdown",
   "id": "0c4e17bc",
   "metadata": {},
   "source": [
    "# ML Final Report\n",
    "### Ben Richardson and Kendra Noneman"
   ]
  },
  {
   "cell_type": "markdown",
   "id": "4526edc3",
   "metadata": {},
   "source": [
    "#### Link for documentation: https://huggingface.co/docs/transformers/model_doc/clip"
   ]
  },
  {
   "cell_type": "code",
   "execution_count": 1,
   "id": "b9a2fba4",
   "metadata": {},
   "outputs": [],
   "source": [
    "from PIL import Image\n",
    "import requests\n",
    "import torch\n",
    "import numpy as np\n",
    "\n",
    "from transformers import CLIPProcessor, CLIPModel"
   ]
  },
  {
   "cell_type": "markdown",
   "id": "45ace0dd",
   "metadata": {},
   "source": [
    "### Acoustic Model:\n",
    "\n",
    "##### Hubert: \n",
    "\"Forces the model to learn a combined acoustic and language model over the continuous inputs\":\n",
    "https://huggingface.co/docs/transformers/v4.24.0/en/model_doc/hubert#overview\n",
    "\n"
   ]
  },
  {
   "cell_type": "markdown",
   "id": "c22a3139",
   "metadata": {},
   "source": [
    "### Multimodal Model:\n",
    "\n",
    "##### CLIPModel:\n",
    "Model configuration class with all the parameters of the model. Initializing with a config file does not load the weights associated with the model, only the configuration.\n",
    " \n",
    "##### from_pretrained:\n",
    "Changes the weights (including mapping hidden states to vocabulary, pruning and initializing weights, tying the weights between the input embeddings and the output embeddings, etc...)\n",
    "https://huggingface.co/docs/transformers/v4.24.0/en/main_classes/model#transformers.PreTrainedModel.from_pretrained\n",
    "\n",
    "Options for CLIP pre-trained openai models (4 of them):\n",
    "https://huggingface.co/openai\n",
    "\n",
    "##### CLIPProcessor:\n",
    "Constructs a CLIP processor which wraps a CLIP feature extractor and a CLIP tokenizer into a single processor"
   ]
  },
  {
   "cell_type": "code",
   "execution_count": 2,
   "id": "ad53763f",
   "metadata": {},
   "outputs": [],
   "source": [
    "model = CLIPModel.from_pretrained(\"openai/clip-vit-base-patch32\")\n",
    "processor = CLIPProcessor.from_pretrained(\"openai/clip-vit-base-patch32\")"
   ]
  },
  {
   "cell_type": "code",
   "execution_count": 9,
   "id": "95caea69",
   "metadata": {},
   "outputs": [],
   "source": [
    "url = \"http://images.cocodataset.org/val2017/000000039769.jpg\"\n",
    "image = Image.open(requests.get(url, stream=True).raw)\n",
    "image.show()"
   ]
  },
  {
   "cell_type": "code",
   "execution_count": 4,
   "id": "88a65692",
   "metadata": {
    "scrolled": false
   },
   "outputs": [
    {
     "name": "stdout",
     "output_type": "stream",
     "text": [
      "tensor([[49406,   320,  1125,   539,   320,  2368, 49407],\n",
      "        [49406,   320,  1125,   539,   320,  1929, 49407]])\n",
      "torch.Size([2, 7])\n"
     ]
    }
   ],
   "source": [
    "inputs = processor(text=[\"a photo of a cat\", \"a photo of a dog\"], images=image, return_tensors=\"pt\", padding=True)\n",
    "print(inputs[\"input_ids\"])\n",
    "print(inputs[\"input_ids\"].shape)\n"
   ]
  },
  {
   "cell_type": "code",
   "execution_count": 5,
   "id": "03ae44af",
   "metadata": {},
   "outputs": [],
   "source": [
    "# Find the n words with largest auditory cue, and then set the attention mask to 1 only for those words\n",
    "\n",
    "inputs[\"attention_mask\"] = torch.Tensor([np.zeros(inputs[\"input_ids\"].shape[1]).tolist(),np.zeros(inputs[\"input_ids\"].shape[1]).tolist()])"
   ]
  },
  {
   "cell_type": "code",
   "execution_count": 6,
   "id": "4aa75601",
   "metadata": {
    "scrolled": true
   },
   "outputs": [],
   "source": [
    "outputs = model(**inputs)\n",
    "logits_per_image = outputs.logits_per_image  # this is the image-text similarity score\n",
    "probs = logits_per_image.softmax(dim=1)  # we can take the softmax to get the label probabilities"
   ]
  },
  {
   "cell_type": "code",
   "execution_count": 7,
   "id": "12aa0187",
   "metadata": {},
   "outputs": [
    {
     "name": "stdout",
     "output_type": "stream",
     "text": [
      "tensor([[0.5949, 0.4051]], grad_fn=<SoftmaxBackward0>)\n"
     ]
    }
   ],
   "source": [
    "print(probs)"
   ]
  },
  {
   "cell_type": "code",
   "execution_count": null,
   "id": "cb7555a2",
   "metadata": {},
   "outputs": [],
   "source": []
  },
  {
   "cell_type": "code",
   "execution_count": null,
   "id": "9c305ea6",
   "metadata": {},
   "outputs": [],
   "source": []
  }
 ],
 "metadata": {
  "kernelspec": {
   "display_name": "Python 3",
   "language": "python",
   "name": "python3"
  },
  "language_info": {
   "codemirror_mode": {
    "name": "ipython",
    "version": 3
   },
   "file_extension": ".py",
   "mimetype": "text/x-python",
   "name": "python",
   "nbconvert_exporter": "python",
   "pygments_lexer": "ipython3",
   "version": "3.8.8"
  }
 },
 "nbformat": 4,
 "nbformat_minor": 5
}
