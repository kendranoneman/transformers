{
 "cells": [
  {
   "cell_type": "markdown",
   "id": "0c4e17bc",
   "metadata": {},
   "source": [
    "# ML Final Report\n",
    "### Ben Richardson and Kendra Noneman"
   ]
  },
  {
   "cell_type": "markdown",
   "id": "4526edc3",
   "metadata": {},
   "source": [
    "#### Link for documentation: https://huggingface.co/docs/transformers/model_doc/clip"
   ]
  },
  {
   "cell_type": "code",
   "execution_count": 1,
   "id": "b9a2fba4",
   "metadata": {},
   "outputs": [
    {
     "name": "stdout",
     "output_type": "stream",
     "text": [
      "['C:\\\\Users\\\\benri\\\\Documents\\\\GitHub\\\\transformers', 'C:\\\\Users\\\\benri\\\\Anaconda3', 'C:\\\\Users\\\\benri\\\\Anaconda3\\\\python38.zip', 'C:\\\\Users\\\\benri\\\\Anaconda3\\\\DLLs', 'C:\\\\Users\\\\benri\\\\Anaconda3\\\\lib', '', 'C:\\\\Users\\\\benri\\\\Anaconda3\\\\lib\\\\site-packages', 'c:\\\\users\\\\benri\\\\src\\\\psylab', 'c:\\\\users\\\\benri\\\\src\\\\spyral', 'c:\\\\users\\\\benri\\\\documents\\\\github\\\\transformers\\\\src', 'C:\\\\Users\\\\benri\\\\Anaconda3\\\\lib\\\\site-packages\\\\locket-0.2.1-py3.8.egg', 'C:\\\\Users\\\\benri\\\\Anaconda3\\\\lib\\\\site-packages\\\\win32', 'C:\\\\Users\\\\benri\\\\Anaconda3\\\\lib\\\\site-packages\\\\win32\\\\lib', 'C:\\\\Users\\\\benri\\\\Anaconda3\\\\lib\\\\site-packages\\\\Pythonwin', 'C:\\\\Users\\\\benri\\\\Anaconda3\\\\lib\\\\site-packages\\\\IPython\\\\extensions', 'C:\\\\Users\\\\benri\\\\.ipython', 'C:\\x0cfmpeg\\x08in']\n"
     ]
    }
   ],
   "source": [
    "from PIL import Image\n",
    "import requests\n",
    "import torch\n",
    "import numpy as np\n",
    "from gtts import gTTS\n",
    "import matplotlib.pyplot as plt\n",
    "from playsound import playsound\n",
    "from audio2numpy import open_audio\n",
    "import sys\n",
    "sys.path.append('C:\\ffmpeg\\bin')\n",
    "\n",
    "print(sys.path)\n",
    "from transformers import CLIPProcessor, CLIPModel"
   ]
  },
  {
   "cell_type": "markdown",
   "id": "45ace0dd",
   "metadata": {},
   "source": [
    "### Acoustic Model:\n",
    "\n",
    "##### Hubert: \n",
    "\"Forces the model to learn a combined acoustic and language model over the continuous inputs\":\n",
    "https://huggingface.co/docs/transformers/v4.24.0/en/model_doc/hubert#overview\n",
    "\n"
   ]
  },
  {
   "cell_type": "markdown",
   "id": "c22a3139",
   "metadata": {},
   "source": [
    "### Multimodal Model:\n",
    "\n",
    "##### CLIPModel:\n",
    "Model configuration class with all the parameters of the model. Initializing with a config file does not load the weights associated with the model, only the configuration.\n",
    " \n",
    "##### from_pretrained:\n",
    "Changes the weights (including mapping hidden states to vocabulary, pruning and initializing weights, tying the weights between the input embeddings and the output embeddings, etc...)\n",
    "https://huggingface.co/docs/transformers/v4.24.0/en/main_classes/model#transformers.PreTrainedModel.from_pretrained\n",
    "\n",
    "Options for CLIP pre-trained openai models (4 of them):\n",
    "https://huggingface.co/openai\n",
    "\n",
    "##### CLIPProcessor:\n",
    "Constructs a CLIP processor which wraps a CLIP feature extractor and a CLIP tokenizer into a single processor"
   ]
  },
  {
   "cell_type": "code",
   "execution_count": null,
   "id": "ad53763f",
   "metadata": {},
   "outputs": [],
   "source": [
    "model = CLIPModel.from_pretrained(\"openai/clip-vit-base-patch32\")\n",
    "processor = CLIPProcessor.from_pretrained(\"openai/clip-vit-base-patch32\")"
   ]
  },
  {
   "cell_type": "code",
   "execution_count": null,
   "id": "95caea69",
   "metadata": {},
   "outputs": [],
   "source": [
    "url = \"http://images.cocodataset.org/val2017/000000039769.jpg\"\n",
    "image = Image.open(requests.get(url, stream=True).raw)\n",
    "image.show()"
   ]
  },
  {
   "cell_type": "code",
   "execution_count": null,
   "id": "88a65692",
   "metadata": {
    "scrolled": true
   },
   "outputs": [],
   "source": [
    "inputs = processor(text=[\"a photo of a cat\", \"a photo of a dog\"], images=image, return_tensors=\"pt\", padding=True)\n",
    "print(inputs[\"input_ids\"])\n",
    "print(inputs[\"input_ids\"].shape)\n"
   ]
  },
  {
   "cell_type": "code",
   "execution_count": null,
   "id": "e3d139ba",
   "metadata": {
    "scrolled": true
   },
   "outputs": [],
   "source": [
    "## Text to Speech, determine pitch contour\n",
    "text_to_convert = \"a photo of a cat\"\n",
    "audio_file = \"speech.mp3\"\n",
    "language = \"en\"\n",
    "speech = gTTS(text=text_to_convert, lang=language, slow=False)\n",
    "print(speech)\n",
    "speech.save(audio_file)\n",
    "signal, fs = open_audio(audio_file)"
   ]
  },
  {
   "cell_type": "code",
   "execution_count": null,
   "id": "03ae44af",
   "metadata": {},
   "outputs": [],
   "source": [
    "# Find the n words with largest auditory cue, and then set the attention mask to 1 only for those words\n",
    "\n",
    "inputs[\"attention_mask\"] = torch.Tensor([[1,1,1,1,1,1,1],[1,1,1,1,1,1,1]])\n",
    "#torch.Tensor([np.linspace(1,0,num=inputs[\"input_ids\"].shape[1]).tolist(),np.linspace(1,0,num=inputs[\"input_ids\"].shape[1]).tolist()])\n",
    "print(np.linspace(1,0,num=inputs[\"input_ids\"].shape[1]).tolist())\n"
   ]
  },
  {
   "cell_type": "code",
   "execution_count": null,
   "id": "4aa75601",
   "metadata": {
    "scrolled": true
   },
   "outputs": [],
   "source": [
    "outputs = model(**inputs)\n",
    "logits_per_image = outputs.logits_per_image  # this is the image-text similarity score\n",
    "probs = logits_per_image.softmax(dim=1)  # we can take the softmax to get the label probabilities"
   ]
  },
  {
   "cell_type": "code",
   "execution_count": null,
   "id": "12aa0187",
   "metadata": {
    "scrolled": true
   },
   "outputs": [],
   "source": [
    "print(probs)"
   ]
  },
  {
   "cell_type": "code",
   "execution_count": null,
   "id": "cb7555a2",
   "metadata": {},
   "outputs": [],
   "source": []
  },
  {
   "cell_type": "code",
   "execution_count": null,
   "id": "9c305ea6",
   "metadata": {},
   "outputs": [],
   "source": []
  }
 ],
 "metadata": {
  "kernelspec": {
   "display_name": "Python 3",
   "language": "python",
   "name": "python3"
  },
  "language_info": {
   "codemirror_mode": {
    "name": "ipython",
    "version": 3
   },
   "file_extension": ".py",
   "mimetype": "text/x-python",
   "name": "python",
   "nbconvert_exporter": "python",
   "pygments_lexer": "ipython3",
   "version": "3.9.5"
  }
 },
 "nbformat": 4,
 "nbformat_minor": 5
}
